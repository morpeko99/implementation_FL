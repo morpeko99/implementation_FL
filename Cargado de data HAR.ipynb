{
 "cells": [
  {
   "cell_type": "markdown",
   "metadata": {},
   "source": [
    "## Cargando la data HAR\n",
    "\n",
    "https://archive.ics.uci.edu/ml/datasets/human+activity+recognition+using+smartphones"
   ]
  },
  {
   "cell_type": "code",
   "execution_count": 1,
   "metadata": {},
   "outputs": [],
   "source": [
    "# To store data\n",
    "import pandas as pd\n",
    "from numpy import mean\n",
    "from numpy import std\n",
    "from numpy import dstack\n",
    "from pandas import read_csv\n",
    "# To do linear algebra\n",
    "import numpy as np\n",
    "from sklearn.model_selection import train_test_split\n",
    "from keras.utils import to_categorical"
   ]
  },
  {
   "cell_type": "markdown",
   "metadata": {},
   "source": [
    "Función para leer un archivo como numpy array, desde cierto índice a cierto índice, ya que se quiere cargar los datos de solo un usuario"
   ]
  },
  {
   "cell_type": "code",
   "execution_count": 2,
   "metadata": {},
   "outputs": [],
   "source": [
    "# load a single file as a numpy array\n",
    "def load_file(filepath, ini_idx, fin_idx):\n",
    "    dataframe = read_csv(filepath, header=None, delim_whitespace=True,skiprows=ini_idx,nrows=(fin_idx-ini_idx+1))\n",
    "    return dataframe.values\n"
   ]
  },
  {
   "cell_type": "markdown",
   "metadata": {},
   "source": [
    "función que recorre una lista de archivos y retorna un numpy array 3d. La función `dstack()` de NumPy nos permite apilar cada una de las matrices 3D cargadas en una única matriz 3D donde las variables se separan en la tercera dimensión (características)."
   ]
  },
  {
   "cell_type": "code",
   "execution_count": 3,
   "metadata": {},
   "outputs": [],
   "source": [
    "# load a list of files and return as a 3d numpy array\n",
    "def load_group(filenames, ini_idx, last_idx, prefix=''):\n",
    "    loaded = list()\n",
    "    for name in filenames:\n",
    "        data = load_file(prefix + name, ini_idx, last_idx)\n",
    "        loaded.append(data)\n",
    "    # stack group so that features are the 3rd dimension\n",
    "    loaded = dstack(loaded)\n",
    "    return loaded"
   ]
  },
  {
   "cell_type": "markdown",
   "metadata": {},
   "source": [
    "Podemos usar esta función para cargar todos los datos de la señal de entrada para un grupo dado, como train o test.\n",
    "La función `load_dataset_group()` a continuación carga todos los datos de la señal de entrada y los datos de salida para un solo grupo(train o test) usando las convenciones de nomenclatura consistentes entre los directorios de test y train."
   ]
  },
  {
   "cell_type": "code",
   "execution_count": 4,
   "metadata": {},
   "outputs": [],
   "source": [
    "# load a dataset group, such as train or test\n",
    "def load_dataset_group(group, client, prefix=''):\n",
    "    \n",
    "    #tuple of init index and last index of client\n",
    "    (ini_idx, last_idx) = client_index(group, client, prefix) \n",
    "    \n",
    "    filepath = prefix + group + '/Inertial Signals/'\n",
    "    \n",
    "    # load all 9 files as a single array\n",
    "    filenames = list()\n",
    "    \n",
    "    # total acceleration\n",
    "    filenames += ['total_acc_x_'+group+'.txt', 'total_acc_y_'+group+'.txt', 'total_acc_z_'+group+'.txt']\n",
    "    \n",
    "    # body acceleration\n",
    "    filenames += ['body_acc_x_'+group+'.txt', 'body_acc_y_'+group+'.txt', 'body_acc_z_'+group+'.txt']\n",
    "    \n",
    "    # body gyroscope\n",
    "    filenames += ['body_gyro_x_'+group+'.txt', 'body_gyro_y_'+group+'.txt', 'body_gyro_z_'+group+'.txt']\n",
    "    \n",
    "    # load input data\n",
    "    X = load_group(filenames, ini_idx, last_idx, filepath)\n",
    "    \n",
    "    # load class output\n",
    "    y = load_file(prefix + group + '/y_'+group+'.txt', ini_idx, last_idx)\n",
    "    \n",
    "    return X, y"
   ]
  },
  {
   "cell_type": "markdown",
   "metadata": {},
   "source": [
    "Finalmente, podemos cargar cada uno de los conjuntos de datos de test y train.\n",
    "\n",
    "La función `load_dataset()` a continuación implementa este comportamiento y retorna la X e y (para train y test) listos para ajustar y evaluar los modelos definidos.\n"
   ]
  },
  {
   "cell_type": "code",
   "execution_count": 5,
   "metadata": {},
   "outputs": [],
   "source": [
    "from sklearn.model_selection import train_test_split\n",
    "# load the dataset, returns train and test X and y elements\n",
    "def load_dataset(prefix='', client=None):\n",
    "    try:\n",
    "        #se cargan los datos de cliente si sus datos están en el train\n",
    "        X_client, y_client = load_dataset_group('train', client, prefix + './UCI_HAR_Dataset/')\n",
    "        print(X_client.shape, y_client.shape)\n",
    "        \n",
    "        # zero-offset class values\n",
    "        y_client = y_client - 1\n",
    "        \n",
    "        # one hot encode y\n",
    "        y_client = to_categorical(y_client)\n",
    "    except:\n",
    "        #se cargan los datos del cliente si sus datos están en el test\n",
    "        X_client, y_client = load_dataset_group('test', client, prefix + './UCI_HAR_Dataset/')\n",
    "        print(X_client.shape, y_client.shape)\n",
    "        \n",
    "        # zero-offset class values\n",
    "        y_client = y_client - 1\n",
    "        \n",
    "        # one hot encode y\n",
    "        y_client = to_categorical(y_client)\n",
    "        \n",
    "    X_train, X_test, y_train, y_test = train_test_split(X_client, y_client, test_size = 0.3, random_state = 42)\n",
    "    \n",
    "    print(X_train.shape, y_train.shape, X_test.shape, y_test.shape)\n",
    "    return (X_train, y_train), (X_test, y_test)"
   ]
  },
  {
   "cell_type": "markdown",
   "metadata": {},
   "source": [
    "Función para encontrar los índices de la data de un usuario en particular."
   ]
  },
  {
   "cell_type": "code",
   "execution_count": 17,
   "metadata": {},
   "outputs": [],
   "source": [
    "def client_index(group, client, prefix): #client debe ser un número que represente a una cliente del dataset\n",
    "    df = pd.read_csv(prefix + group +'/subject_'+ group+'.txt', header=None)\n",
    "    df_= df\n",
    "    #se definieron 5 clientes, que contendran los datos de un grupo de sujetos del dataset:\n",
    "    ini, end = client\n",
    "    df1 = df.loc[(df[0] == ini)]\n",
    "    df2 = df_.loc[(df_[0] == end)]\n",
    "    df = pd.concat([df1,df2])\n",
    "    print((int(df.index[0]),int(df.index[-1])))\n",
    "    return (int(df.index[0]),int(df.index[-1])) #se retorna una tupla con el indice inicial e  indice final "
   ]
  },
  {
   "cell_type": "markdown",
   "metadata": {},
   "source": [
    "Ahora se tiene la data lista para ser usada en un modelo CNN 1D."
   ]
  },
  {
   "cell_type": "code",
   "execution_count": 20,
   "metadata": {},
   "outputs": [
    {
     "name": "stdout",
     "output_type": "stream",
     "text": [
      "(0, 346)\n",
      "(347, 128, 9) (347, 1)\n",
      "(242, 128, 9) (242, 6) (105, 128, 9) (105, 6)\n"
     ]
    },
    {
     "data": {
      "text/html": [
       "<div>\n",
       "<style scoped>\n",
       "    .dataframe tbody tr th:only-of-type {\n",
       "        vertical-align: middle;\n",
       "    }\n",
       "\n",
       "    .dataframe tbody tr th {\n",
       "        vertical-align: top;\n",
       "    }\n",
       "\n",
       "    .dataframe thead th {\n",
       "        text-align: right;\n",
       "    }\n",
       "</style>\n",
       "<table border=\"1\" class=\"dataframe\">\n",
       "  <thead>\n",
       "    <tr style=\"text-align: right;\">\n",
       "      <th></th>\n",
       "      <th>0</th>\n",
       "      <th>1</th>\n",
       "      <th>2</th>\n",
       "      <th>3</th>\n",
       "      <th>4</th>\n",
       "      <th>5</th>\n",
       "      <th>6</th>\n",
       "      <th>7</th>\n",
       "      <th>8</th>\n",
       "    </tr>\n",
       "  </thead>\n",
       "  <tbody>\n",
       "    <tr>\n",
       "      <th>0</th>\n",
       "      <td>1.426164</td>\n",
       "      <td>-0.362485</td>\n",
       "      <td>0.278914</td>\n",
       "      <td>0.423367</td>\n",
       "      <td>-0.147059</td>\n",
       "      <td>0.332361</td>\n",
       "      <td>-0.563775</td>\n",
       "      <td>-0.166493</td>\n",
       "      <td>0.419944</td>\n",
       "    </tr>\n",
       "    <tr>\n",
       "      <th>1</th>\n",
       "      <td>1.496596</td>\n",
       "      <td>-0.591127</td>\n",
       "      <td>0.120137</td>\n",
       "      <td>0.493977</td>\n",
       "      <td>-0.376090</td>\n",
       "      <td>0.174196</td>\n",
       "      <td>0.142212</td>\n",
       "      <td>0.194743</td>\n",
       "      <td>0.492339</td>\n",
       "    </tr>\n",
       "    <tr>\n",
       "      <th>2</th>\n",
       "      <td>1.305815</td>\n",
       "      <td>-0.645547</td>\n",
       "      <td>0.012587</td>\n",
       "      <td>0.303323</td>\n",
       "      <td>-0.430905</td>\n",
       "      <td>0.067112</td>\n",
       "      <td>0.562869</td>\n",
       "      <td>0.504950</td>\n",
       "      <td>0.223340</td>\n",
       "    </tr>\n",
       "    <tr>\n",
       "      <th>3</th>\n",
       "      <td>0.973824</td>\n",
       "      <td>-0.543838</td>\n",
       "      <td>-0.001186</td>\n",
       "      <td>-0.028609</td>\n",
       "      <td>-0.329574</td>\n",
       "      <td>0.053662</td>\n",
       "      <td>0.469666</td>\n",
       "      <td>0.271681</td>\n",
       "      <td>-0.061946</td>\n",
       "    </tr>\n",
       "    <tr>\n",
       "      <th>4</th>\n",
       "      <td>0.691378</td>\n",
       "      <td>-0.424250</td>\n",
       "      <td>-0.015278</td>\n",
       "      <td>-0.311065</td>\n",
       "      <td>-0.210333</td>\n",
       "      <td>0.039756</td>\n",
       "      <td>0.361988</td>\n",
       "      <td>-0.350011</td>\n",
       "      <td>0.022662</td>\n",
       "    </tr>\n",
       "    <tr>\n",
       "      <th>...</th>\n",
       "      <td>...</td>\n",
       "      <td>...</td>\n",
       "      <td>...</td>\n",
       "      <td>...</td>\n",
       "      <td>...</td>\n",
       "      <td>...</td>\n",
       "      <td>...</td>\n",
       "      <td>...</td>\n",
       "      <td>...</td>\n",
       "    </tr>\n",
       "    <tr>\n",
       "      <th>123</th>\n",
       "      <td>0.760949</td>\n",
       "      <td>-0.259650</td>\n",
       "      <td>-0.028184</td>\n",
       "      <td>-0.243675</td>\n",
       "      <td>-0.004049</td>\n",
       "      <td>0.007952</td>\n",
       "      <td>0.853804</td>\n",
       "      <td>-0.999119</td>\n",
       "      <td>-0.126709</td>\n",
       "    </tr>\n",
       "    <tr>\n",
       "      <th>124</th>\n",
       "      <td>0.614900</td>\n",
       "      <td>-0.110923</td>\n",
       "      <td>-0.077985</td>\n",
       "      <td>-0.390169</td>\n",
       "      <td>0.144785</td>\n",
       "      <td>-0.042434</td>\n",
       "      <td>0.892525</td>\n",
       "      <td>-1.068560</td>\n",
       "      <td>0.159877</td>\n",
       "    </tr>\n",
       "    <tr>\n",
       "      <th>125</th>\n",
       "      <td>0.690008</td>\n",
       "      <td>-0.096675</td>\n",
       "      <td>-0.096612</td>\n",
       "      <td>-0.315476</td>\n",
       "      <td>0.159162</td>\n",
       "      <td>-0.061676</td>\n",
       "      <td>0.897483</td>\n",
       "      <td>-1.003608</td>\n",
       "      <td>0.339440</td>\n",
       "    </tr>\n",
       "    <tr>\n",
       "      <th>126</th>\n",
       "      <td>0.862856</td>\n",
       "      <td>-0.111694</td>\n",
       "      <td>-0.117733</td>\n",
       "      <td>-0.143001</td>\n",
       "      <td>0.144283</td>\n",
       "      <td>-0.083438</td>\n",
       "      <td>0.756824</td>\n",
       "      <td>-0.700187</td>\n",
       "      <td>0.291160</td>\n",
       "    </tr>\n",
       "    <tr>\n",
       "      <th>127</th>\n",
       "      <td>0.966143</td>\n",
       "      <td>-0.070616</td>\n",
       "      <td>-0.154635</td>\n",
       "      <td>-0.040035</td>\n",
       "      <td>0.185504</td>\n",
       "      <td>-0.120998</td>\n",
       "      <td>0.735719</td>\n",
       "      <td>-0.246882</td>\n",
       "      <td>0.236842</td>\n",
       "    </tr>\n",
       "  </tbody>\n",
       "</table>\n",
       "<p>128 rows × 9 columns</p>\n",
       "</div>"
      ],
      "text/plain": [
       "            0         1         2         3         4         5         6  \\\n",
       "0    1.426164 -0.362485  0.278914  0.423367 -0.147059  0.332361 -0.563775   \n",
       "1    1.496596 -0.591127  0.120137  0.493977 -0.376090  0.174196  0.142212   \n",
       "2    1.305815 -0.645547  0.012587  0.303323 -0.430905  0.067112  0.562869   \n",
       "3    0.973824 -0.543838 -0.001186 -0.028609 -0.329574  0.053662  0.469666   \n",
       "4    0.691378 -0.424250 -0.015278 -0.311065 -0.210333  0.039756  0.361988   \n",
       "..        ...       ...       ...       ...       ...       ...       ...   \n",
       "123  0.760949 -0.259650 -0.028184 -0.243675 -0.004049  0.007952  0.853804   \n",
       "124  0.614900 -0.110923 -0.077985 -0.390169  0.144785 -0.042434  0.892525   \n",
       "125  0.690008 -0.096675 -0.096612 -0.315476  0.159162 -0.061676  0.897483   \n",
       "126  0.862856 -0.111694 -0.117733 -0.143001  0.144283 -0.083438  0.756824   \n",
       "127  0.966143 -0.070616 -0.154635 -0.040035  0.185504 -0.120998  0.735719   \n",
       "\n",
       "            7         8  \n",
       "0   -0.166493  0.419944  \n",
       "1    0.194743  0.492339  \n",
       "2    0.504950  0.223340  \n",
       "3    0.271681 -0.061946  \n",
       "4   -0.350011  0.022662  \n",
       "..        ...       ...  \n",
       "123 -0.999119 -0.126709  \n",
       "124 -1.068560  0.159877  \n",
       "125 -1.003608  0.339440  \n",
       "126 -0.700187  0.291160  \n",
       "127 -0.246882  0.236842  \n",
       "\n",
       "[128 rows x 9 columns]"
      ]
     },
     "execution_count": 20,
     "metadata": {},
     "output_type": "execute_result"
    }
   ],
   "source": [
    "df = pd.DataFrame((load_dataset(client=(1,1))[0][0][0]))\n",
    "df"
   ]
  },
  {
   "cell_type": "markdown",
   "metadata": {},
   "source": [
    "Acá exploramos el archivo `subject_train`, el cual contiene a los distintos voluntarios quienes fueron los responsable de los datos de entrenamiento."
   ]
  },
  {
   "cell_type": "code",
   "execution_count": 8,
   "metadata": {},
   "outputs": [
    {
     "data": {
      "text/plain": [
       "array([ 1,  3,  5,  6,  7,  8, 11, 14, 15, 16, 17, 19, 21, 22, 23, 25, 26,\n",
       "       27, 28, 29, 30])"
      ]
     },
     "execution_count": 8,
     "metadata": {},
     "output_type": "execute_result"
    }
   ],
   "source": [
    "df_train = pd.read_csv('./UCI_HAR_Dataset/train/subject_train.txt', header=None)\n",
    "df_train[0].unique()"
   ]
  },
  {
   "cell_type": "markdown",
   "metadata": {},
   "source": [
    "Acá exploramos el archivo `subject_test`, el cual contiene a los distintos voluntarios quienes fueron los responsable de los datos de pruebas."
   ]
  },
  {
   "cell_type": "code",
   "execution_count": 9,
   "metadata": {},
   "outputs": [
    {
     "data": {
      "text/plain": [
       "array([ 2,  4,  9, 10, 12, 13, 18, 20, 24])"
      ]
     },
     "execution_count": 9,
     "metadata": {},
     "output_type": "execute_result"
    }
   ],
   "source": [
    "df_test = pd.read_csv('./UCI_HAR_Dataset/test/subject_test.txt', header=None)\n",
    "df_test[0].unique()"
   ]
  },
  {
   "cell_type": "code",
   "execution_count": null,
   "metadata": {},
   "outputs": [],
   "source": []
  },
  {
   "cell_type": "code",
   "execution_count": null,
   "metadata": {},
   "outputs": [],
   "source": []
  }
 ],
 "metadata": {
  "kernelspec": {
   "display_name": "Python 3",
   "language": "python",
   "name": "python3"
  },
  "language_info": {
   "codemirror_mode": {
    "name": "ipython",
    "version": 3
   },
   "file_extension": ".py",
   "mimetype": "text/x-python",
   "name": "python",
   "nbconvert_exporter": "python",
   "pygments_lexer": "ipython3",
   "version": "3.6.9"
  }
 },
 "nbformat": 4,
 "nbformat_minor": 2
}
